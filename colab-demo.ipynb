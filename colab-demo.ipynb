{
 "cells": [
  {
   "cell_type": "code",
   "execution_count": null,
   "id": "bd0ef012",
   "metadata": {},
   "outputs": [],
   "source": [
    "!git clone https://github.com/LuisFMCuriel/SinSR.git"
   ]
  },
  {
   "cell_type": "code",
   "execution_count": null,
   "id": "71d79f07",
   "metadata": {},
   "outputs": [],
   "source": [
    "!pip install -r /content/SinSR/requirements.txt"
   ]
  },
  {
   "cell_type": "code",
   "execution_count": null,
   "id": "055cda2e",
   "metadata": {},
   "outputs": [],
   "source": [
    "!python /content/SinSR/app.py --colab"
   ]
  }
 ],
 "metadata": {
  "kernelspec": {
   "display_name": "Python 3 (ipykernel)",
   "language": "python",
   "name": "python3"
  },
  "language_info": {
   "codemirror_mode": {
    "name": "ipython",
    "version": 3
   },
   "file_extension": ".py",
   "mimetype": "text/x-python",
   "name": "python",
   "nbconvert_exporter": "python",
   "pygments_lexer": "ipython3",
   "version": "3.7.9"
  }
 },
 "nbformat": 4,
 "nbformat_minor": 5
}
